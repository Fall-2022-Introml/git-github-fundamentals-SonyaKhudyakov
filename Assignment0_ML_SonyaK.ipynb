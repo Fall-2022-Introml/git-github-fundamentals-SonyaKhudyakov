{
 "cells": [
  {
   "cell_type": "code",
   "execution_count": null,
   "metadata": {},
   "outputs": [],
   "source": [
    "# a small interactive code that asks user for parameters and then inputs them into a function to calculate result\n",
    "\n",
    "#function that takes two inputs, and returns the result of multiplying the two\n",
    "def gasCost(gasPrice, totalGall):\n",
    "    return gasPrice * totalGall\n",
    "\n",
    "#inputs to put into function based on user\n",
    "gas_price = float(input(\"How much does a gallon of gas cost? --> \"))\n",
    "total_gallons = float(input(\"How many gallons do you need to fill? --> \"))\n",
    "\n",
    "#final print statement and calling the function to get total\n",
    "print(\"Your total cost for gas will be: ${}\".format(gasCost(gas_price, total_gallons)))"
   ]
  },
  {
   "cell_type": "code",
   "execution_count": null,
   "metadata": {},
   "outputs": [],
   "source": []
  }
 ],
 "metadata": {
  "kernelspec": {
   "display_name": "Python 3",
   "language": "python",
   "name": "python3"
  },
  "language_info": {
   "codemirror_mode": {
    "name": "ipython",
    "version": 3
   },
   "file_extension": ".py",
   "mimetype": "text/x-python",
   "name": "python",
   "nbconvert_exporter": "python",
   "pygments_lexer": "ipython3",
   "version": "3.7.4"
  }
 },
 "nbformat": 4,
 "nbformat_minor": 2
}
